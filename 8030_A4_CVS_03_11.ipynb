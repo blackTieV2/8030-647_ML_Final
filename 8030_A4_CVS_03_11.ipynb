{
  "nbformat": 4,
  "nbformat_minor": 0,
  "metadata": {
    "colab": {
      "provenance": [],
      "machine_shape": "hm",
      "authorship_tag": "ABX9TyMsdoLEgWemoUAtep22Lmo0",
      "include_colab_link": true
    },
    "kernelspec": {
      "name": "python3",
      "display_name": "Python 3"
    },
    "language_info": {
      "name": "python"
    }
  },
  "cells": [
    {
      "cell_type": "markdown",
      "metadata": {
        "id": "view-in-github",
        "colab_type": "text"
      },
      "source": [
        "<a href=\"https://colab.research.google.com/github/blackTieV2/8030-647_ML_Final/blob/master/8030_A4_CVS_03_11.ipynb\" target=\"_parent\"><img src=\"https://colab.research.google.com/assets/colab-badge.svg\" alt=\"Open In Colab\"/></a>"
      ]
    },
    {
      "cell_type": "code",
      "source": [
        "from google.colab import drive\n",
        "drive.mount('/content/drive')"
      ],
      "metadata": {
        "colab": {
          "base_uri": "https://localhost:8080/"
        },
        "id": "iOpDVPVDwh6L",
        "outputId": "c32d28d7-aa5a-4324-fa8b-fde351ced526"
      },
      "execution_count": null,
      "outputs": [
        {
          "output_type": "stream",
          "name": "stdout",
          "text": [
            "Mounted at /content/drive\n"
          ]
        }
      ]
    },
    {
      "cell_type": "markdown",
      "source": [
        "Step 1: Re-import Libraries and Reload the Dataset\n",
        "Run the following code to re-import the required libraries and reload the Syn.csv file:"
      ],
      "metadata": {
        "id": "hZY0s7c04f5L"
      }
    },
    {
      "cell_type": "code",
      "source": [
        "!pip install pandas numpy scikit-learn matplotlib seaborn xgboost\n"
      ],
      "metadata": {
        "collapsed": true,
        "colab": {
          "base_uri": "https://localhost:8080/"
        },
        "id": "Q-Y43-bR4qvM",
        "outputId": "a03b9f22-188a-4cd0-f91f-de39c329d096"
      },
      "execution_count": null,
      "outputs": [
        {
          "output_type": "stream",
          "name": "stdout",
          "text": [
            "Requirement already satisfied: pandas in /usr/local/lib/python3.10/dist-packages (2.2.2)\n",
            "Requirement already satisfied: numpy in /usr/local/lib/python3.10/dist-packages (1.26.4)\n",
            "Requirement already satisfied: scikit-learn in /usr/local/lib/python3.10/dist-packages (1.5.2)\n",
            "Requirement already satisfied: matplotlib in /usr/local/lib/python3.10/dist-packages (3.7.1)\n",
            "Requirement already satisfied: seaborn in /usr/local/lib/python3.10/dist-packages (0.13.2)\n",
            "Requirement already satisfied: xgboost in /usr/local/lib/python3.10/dist-packages (2.1.1)\n",
            "Requirement already satisfied: python-dateutil>=2.8.2 in /usr/local/lib/python3.10/dist-packages (from pandas) (2.8.2)\n",
            "Requirement already satisfied: pytz>=2020.1 in /usr/local/lib/python3.10/dist-packages (from pandas) (2024.2)\n",
            "Requirement already satisfied: tzdata>=2022.7 in /usr/local/lib/python3.10/dist-packages (from pandas) (2024.2)\n",
            "Requirement already satisfied: scipy>=1.6.0 in /usr/local/lib/python3.10/dist-packages (from scikit-learn) (1.13.1)\n",
            "Requirement already satisfied: joblib>=1.2.0 in /usr/local/lib/python3.10/dist-packages (from scikit-learn) (1.4.2)\n",
            "Requirement already satisfied: threadpoolctl>=3.1.0 in /usr/local/lib/python3.10/dist-packages (from scikit-learn) (3.5.0)\n",
            "Requirement already satisfied: contourpy>=1.0.1 in /usr/local/lib/python3.10/dist-packages (from matplotlib) (1.3.0)\n",
            "Requirement already satisfied: cycler>=0.10 in /usr/local/lib/python3.10/dist-packages (from matplotlib) (0.12.1)\n",
            "Requirement already satisfied: fonttools>=4.22.0 in /usr/local/lib/python3.10/dist-packages (from matplotlib) (4.54.1)\n",
            "Requirement already satisfied: kiwisolver>=1.0.1 in /usr/local/lib/python3.10/dist-packages (from matplotlib) (1.4.7)\n",
            "Requirement already satisfied: packaging>=20.0 in /usr/local/lib/python3.10/dist-packages (from matplotlib) (24.1)\n",
            "Requirement already satisfied: pillow>=6.2.0 in /usr/local/lib/python3.10/dist-packages (from matplotlib) (10.4.0)\n",
            "Requirement already satisfied: pyparsing>=2.3.1 in /usr/local/lib/python3.10/dist-packages (from matplotlib) (3.2.0)\n",
            "Requirement already satisfied: nvidia-nccl-cu12 in /usr/local/lib/python3.10/dist-packages (from xgboost) (2.23.4)\n",
            "Requirement already satisfied: six>=1.5 in /usr/local/lib/python3.10/dist-packages (from python-dateutil>=2.8.2->pandas) (1.16.0)\n"
          ]
        }
      ]
    },
    {
      "cell_type": "code",
      "source": [
        "import pandas as pd\n",
        "import numpy as np\n",
        "from sklearn.model_selection import train_test_split\n",
        "from sklearn.feature_extraction import FeatureHasher"
      ],
      "metadata": {
        "id": "BdGdFmrwLcpi"
      },
      "execution_count": null,
      "outputs": []
    },
    {
      "cell_type": "markdown",
      "source": [
        "Step 2: Load the Dataset (Syn.csv)"
      ],
      "metadata": {
        "id": "_LaVQgFg4-OT"
      }
    },
    {
      "cell_type": "code",
      "source": [
        "# Path to the Syn.csv file\n",
        "csv_file = '/content/drive/MyDrive/8030 - Big Data/A4/CSV-03-11/03-11/Syn.csv'\n",
        "\n",
        "# Load the CSV into a DataFrame\n",
        "syn_data = pd.read_csv(csv_file)\n",
        "\n",
        "# Remove leading and trailing spaces from column names\n",
        "syn_data.columns = syn_data.columns.str.strip()\n"
      ],
      "metadata": {
        "colab": {
          "base_uri": "https://localhost:8080/"
        },
        "id": "PLHtzTjb4kg9",
        "outputId": "fd16cefb-b0dc-4a89-ae01-9648532e8a56"
      },
      "execution_count": null,
      "outputs": [
        {
          "output_type": "stream",
          "name": "stderr",
          "text": [
            "<ipython-input-4-590b627fe567>:5: DtypeWarning: Columns (85) have mixed types. Specify dtype option on import or set low_memory=False.\n",
            "  syn_data = pd.read_csv(csv_file)\n"
          ]
        }
      ]
    },
    {
      "cell_type": "markdown",
      "source": [
        "Step 3: Handle Missing Values in the Dataset"
      ],
      "metadata": {
        "id": "j_0P6QYJ5PMB"
      }
    },
    {
      "cell_type": "code",
      "source": [
        "# Fill missing values in 'Flow Bytes/s' and assign back to the DataFrame\n",
        "syn_data['Flow Bytes/s'] = syn_data['Flow Bytes/s'].fillna(syn_data['Flow Bytes/s'].mean())\n",
        "# Verify that there are no more missing values\n",
        "syn_data.isnull().sum()"
      ],
      "metadata": {
        "colab": {
          "base_uri": "https://localhost:8080/",
          "height": 458
        },
        "collapsed": true,
        "id": "f_EwFh7S5Pyb",
        "outputId": "f7d773ba-859d-4c55-8825-9163f0e8f8fe"
      },
      "execution_count": null,
      "outputs": [
        {
          "output_type": "execute_result",
          "data": {
            "text/plain": [
              "Unnamed: 0        0\n",
              "Flow ID           0\n",
              "Source IP         0\n",
              "Source Port       0\n",
              "Destination IP    0\n",
              "                 ..\n",
              "Idle Max          0\n",
              "Idle Min          0\n",
              "SimillarHTTP      0\n",
              "Inbound           0\n",
              "Label             0\n",
              "Length: 88, dtype: int64"
            ],
            "text/html": [
              "<div>\n",
              "<style scoped>\n",
              "    .dataframe tbody tr th:only-of-type {\n",
              "        vertical-align: middle;\n",
              "    }\n",
              "\n",
              "    .dataframe tbody tr th {\n",
              "        vertical-align: top;\n",
              "    }\n",
              "\n",
              "    .dataframe thead th {\n",
              "        text-align: right;\n",
              "    }\n",
              "</style>\n",
              "<table border=\"1\" class=\"dataframe\">\n",
              "  <thead>\n",
              "    <tr style=\"text-align: right;\">\n",
              "      <th></th>\n",
              "      <th>0</th>\n",
              "    </tr>\n",
              "  </thead>\n",
              "  <tbody>\n",
              "    <tr>\n",
              "      <th>Unnamed: 0</th>\n",
              "      <td>0</td>\n",
              "    </tr>\n",
              "    <tr>\n",
              "      <th>Flow ID</th>\n",
              "      <td>0</td>\n",
              "    </tr>\n",
              "    <tr>\n",
              "      <th>Source IP</th>\n",
              "      <td>0</td>\n",
              "    </tr>\n",
              "    <tr>\n",
              "      <th>Source Port</th>\n",
              "      <td>0</td>\n",
              "    </tr>\n",
              "    <tr>\n",
              "      <th>Destination IP</th>\n",
              "      <td>0</td>\n",
              "    </tr>\n",
              "    <tr>\n",
              "      <th>...</th>\n",
              "      <td>...</td>\n",
              "    </tr>\n",
              "    <tr>\n",
              "      <th>Idle Max</th>\n",
              "      <td>0</td>\n",
              "    </tr>\n",
              "    <tr>\n",
              "      <th>Idle Min</th>\n",
              "      <td>0</td>\n",
              "    </tr>\n",
              "    <tr>\n",
              "      <th>SimillarHTTP</th>\n",
              "      <td>0</td>\n",
              "    </tr>\n",
              "    <tr>\n",
              "      <th>Inbound</th>\n",
              "      <td>0</td>\n",
              "    </tr>\n",
              "    <tr>\n",
              "      <th>Label</th>\n",
              "      <td>0</td>\n",
              "    </tr>\n",
              "  </tbody>\n",
              "</table>\n",
              "<p>88 rows × 1 columns</p>\n",
              "</div><br><label><b>dtype:</b> int64</label>"
            ]
          },
          "metadata": {},
          "execution_count": 5
        }
      ]
    },
    {
      "cell_type": "markdown",
      "source": [
        "Step 4: Split the Data into Features and Labels, then Train-Test Split"
      ],
      "metadata": {
        "id": "xTas_Iiv54ze"
      }
    },
    {
      "cell_type": "code",
      "source": [
        "# Separate features (X) and target (y)\n",
        "X = syn_data.drop(columns=['Label'])  # Features\n",
        "y = syn_data['Label']  # Target label\n",
        "\n",
        "# Split the data into training and testing sets (70% training, 30% testing)\n",
        "X_train, X_test, y_train, y_test = train_test_split(X, y, test_size=0.3, random_state=42)\n"
      ],
      "metadata": {
        "id": "NJSwnTa858DH"
      },
      "execution_count": null,
      "outputs": []
    },
    {
      "cell_type": "markdown",
      "source": [
        "Step 5: Apply One-Hot Encoding to Categorical Features"
      ],
      "metadata": {
        "id": "Ew47nCqL6A-a"
      }
    },
    {
      "cell_type": "code",
      "source": [
        "from sklearn.feature_extraction import FeatureHasher\n",
        "# Initialize the FeatureHasher with a smaller number of output features (e.g., 20 hashed columns)\n",
        "hasher = FeatureHasher(n_features=20, input_type='string')\n",
        "\n",
        "# Apply hashing to categorical columns\n",
        "hashed_features_train = hasher.transform(X_train[['Source IP', 'Destination IP', 'Timestamp']].astype(str).values)\n",
        "hashed_features_test = hasher.transform(X_test[['Source IP', 'Destination IP', 'Timestamp']].astype(str).values)\n",
        "\n",
        "# Convert the hashed features into a DataFrame\n",
        "hashed_df_train = pd.DataFrame(hashed_features_train.toarray())\n",
        "hashed_df_test = pd.DataFrame(hashed_features_test.toarray())\n",
        "\n",
        "# Drop the original categorical columns and concatenate the hashed columns\n",
        "X_train = X_train.drop(columns=['Source IP', 'Destination IP', 'Timestamp'])\n",
        "X_test = X_test.drop(columns=['Source IP', 'Destination IP', 'Timestamp'])\n",
        "\n",
        "X_train = pd.concat([X_train.reset_index(drop=True), hashed_df_train], axis=1)\n",
        "X_test = pd.concat([X_test.reset_index(drop=True), hashed_df_test], axis=1)\n",
        "\n",
        "# Verify by checking the shape of the datasets\n",
        "X_train.shape, X_test.shape\n"
      ],
      "metadata": {
        "colab": {
          "base_uri": "https://localhost:8080/"
        },
        "id": "1TFAgIM86C7W",
        "outputId": "68c4143c-16f2-4962-b3bf-dae332ee81f8"
      },
      "execution_count": null,
      "outputs": [
        {
          "output_type": "execute_result",
          "data": {
            "text/plain": [
              "((3024378, 104), (1296163, 104))"
            ]
          },
          "metadata": {},
          "execution_count": 16
        }
      ]
    },
    {
      "cell_type": "markdown",
      "source": [
        "Step 6: Finalizing Data Preparation for Model Training"
      ],
      "metadata": {
        "id": "dfNPVy5e7YHK"
      }
    },
    {
      "cell_type": "code",
      "source": [
        "# Step 6.1: Drop unnecessary non-numeric columns\n",
        "# We drop 'Flow ID' and 'SimillarHTTP', if they exist\n",
        "X_train = X_train.drop(columns=['Flow ID', 'SimillarHTTP'], errors='ignore')\n",
        "X_test = X_test.drop(columns=['Flow ID', 'SimillarHTTP'], errors='ignore')\n",
        "\n",
        "# Step 6.2: Ensure all columns are numeric\n",
        "X_train.columns = X_train.columns.astype(str)\n",
        "X_test.columns = X_test.columns.astype(str)\n",
        "\n",
        "# Step 6.3: Replace infinite values with NaN (to avoid training issues)\n",
        "X_train.replace([np.inf, -np.inf], np.nan, inplace=True)\n",
        "X_test.replace([np.inf, -np.inf], np.nan, inplace=True)\n",
        "\n",
        "# Step 6.4: Fill any NaN values with the mean of their respective column\n",
        "X_train.fillna(X_train.mean(), inplace=True)\n",
        "X_test.fillna(X_test.mean(), inplace=True)\n",
        "\n",
        "# Step 6.5: Verify that there are no more infinite or NaN values\n",
        "print(\"Any infinities in X_train:\", np.isinf(X_train).values.any())\n",
        "print(\"Any NaNs in X_train:\", np.isnan(X_train).values.any())\n",
        "print(\"Any infinities in X_test:\", np.isinf(X_test).values.any())\n",
        "print(\"Any NaNs in X_test:\", np.isnan(X_test).values.any())\n",
        "\n",
        "# Step 6.6: Convert target labels (y_train and y_test) to numeric values\n",
        "label_mapping = {'BENIGN': 0, 'Syn': 1}  # Adjust this based on your dataset's unique labels\n",
        "\n",
        "y_train = y_train.map(label_mapping)\n",
        "y_test = y_test.map(label_mapping)\n",
        "\n",
        "# Step 6.7: Check that all target labels have been converted correctly\n",
        "print(\"Unique labels in y_train:\", y_train.unique())\n",
        "print(\"Unique labels in y_test:\", y_test.unique())\n",
        "\n",
        "# Final shape of the dataset before training\n",
        "print(\"Final shape of X_train:\", X_train.shape)\n",
        "print(\"Final shape of X_test:\", X_test.shape)\n"
      ],
      "metadata": {
        "colab": {
          "base_uri": "https://localhost:8080/"
        },
        "collapsed": true,
        "id": "oVlAe5nL7Y7w",
        "outputId": "b9b71e1e-1d92-4833-af07-dc3a8ce30876"
      },
      "execution_count": null,
      "outputs": [
        {
          "output_type": "stream",
          "name": "stdout",
          "text": [
            "Any infinities in X_train: False\n",
            "Any NaNs in X_train: False\n",
            "Any infinities in X_test: False\n",
            "Any NaNs in X_test: False\n",
            "Unique labels in y_train: [1 0]\n",
            "Unique labels in y_test: [1 0]\n",
            "Final shape of X_train: (3024378, 102)\n",
            "Final shape of X_test: (1296163, 102)\n"
          ]
        }
      ]
    },
    {
      "cell_type": "markdown",
      "source": [
        "Step 7: Train the Random Forest Model with XGBoost"
      ],
      "metadata": {
        "id": "3N7t7jCA9U_t"
      }
    },
    {
      "cell_type": "code",
      "source": [
        "import xgboost as xgb\n",
        "from sklearn.metrics import classification_report, accuracy_score\n",
        "\n",
        "# Step 7.1: Initialize the XGBoost classifier with GPU support\n",
        "xgb_clf = xgb.XGBClassifier(tree_method='gpu_hist', use_label_encoder=False, n_estimators=100, random_state=42)\n",
        "\n",
        "# Step 7.2: Train the XGBoost model on GPU\n",
        "xgb_clf.fit(X_train, y_train)\n",
        "\n",
        "# Step 7.3: Make predictions on the test set\n",
        "y_pred = xgb_clf.predict(X_test)\n",
        "\n",
        "# Step 7.4: Evaluate the model's performance\n",
        "print(\"Accuracy:\", accuracy_score(y_test, y_pred))\n",
        "print(\"\\nClassification Report:\\n\", classification_report(y_test, y_pred))\n"
      ],
      "metadata": {
        "colab": {
          "base_uri": "https://localhost:8080/"
        },
        "collapsed": true,
        "id": "jRCHtHtK9YD8",
        "outputId": "2bbf1673-e209-46d1-c9a8-6763fc6592d6"
      },
      "execution_count": null,
      "outputs": [
        {
          "output_type": "stream",
          "name": "stderr",
          "text": [
            "/usr/local/lib/python3.10/dist-packages/xgboost/core.py:158: UserWarning: [14:44:04] WARNING: /workspace/src/common/error_msg.cc:27: The tree method `gpu_hist` is deprecated since 2.0.0. To use GPU training, set the `device` parameter to CUDA instead.\n",
            "\n",
            "    E.g. tree_method = \"hist\", device = \"cuda\"\n",
            "\n",
            "  warnings.warn(smsg, UserWarning)\n",
            "/usr/local/lib/python3.10/dist-packages/xgboost/core.py:158: UserWarning: [14:44:04] WARNING: /workspace/src/learner.cc:740: \n",
            "Parameters: { \"use_label_encoder\" } are not used.\n",
            "\n",
            "  warnings.warn(smsg, UserWarning)\n",
            "/usr/local/lib/python3.10/dist-packages/xgboost/core.py:158: UserWarning: [14:44:08] WARNING: /workspace/src/common/error_msg.cc:27: The tree method `gpu_hist` is deprecated since 2.0.0. To use GPU training, set the `device` parameter to CUDA instead.\n",
            "\n",
            "    E.g. tree_method = \"hist\", device = \"cuda\"\n",
            "\n",
            "  warnings.warn(smsg, UserWarning)\n",
            "/usr/local/lib/python3.10/dist-packages/xgboost/core.py:158: UserWarning: [14:44:08] WARNING: /workspace/src/common/error_msg.cc:58: Falling back to prediction using DMatrix due to mismatched devices. This might lead to higher memory usage and slower performance. XGBoost is running on: cuda:0, while the input data is on: cpu.\n",
            "Potential solutions:\n",
            "- Use a data structure that matches the device ordinal in the booster.\n",
            "- Set the device for booster before call to inplace_predict.\n",
            "\n",
            "This warning will only be shown once.\n",
            "\n",
            "  warnings.warn(smsg, UserWarning)\n"
          ]
        },
        {
          "output_type": "stream",
          "name": "stdout",
          "text": [
            "Accuracy: 0.999998456984191\n",
            "\n",
            "Classification Report:\n",
            "               precision    recall  f1-score   support\n",
            "\n",
            "           0       1.00      1.00      1.00     10750\n",
            "           1       1.00      1.00      1.00   1285413\n",
            "\n",
            "    accuracy                           1.00   1296163\n",
            "   macro avg       1.00      1.00      1.00   1296163\n",
            "weighted avg       1.00      1.00      1.00   1296163\n",
            "\n"
          ]
        }
      ]
    },
    {
      "cell_type": "markdown",
      "source": [
        "Step 8: Addressing Class Imbalance with XGBoost"
      ],
      "metadata": {
        "id": "ss38e8mj_d5T"
      }
    },
    {
      "cell_type": "code",
      "source": [
        "# Step 8: Handle Class Imbalance with scale_pos_weight\n",
        "\n",
        "# Calculate the ratio of negative to positive samples\n",
        "ratio = len(y_train[y_train == 0]) / len(y_train[y_train == 1])\n",
        "\n",
        "# Reinitialize XGBoost with the calculated class weight ratio\n",
        "xgb_clf = xgb.XGBClassifier(tree_method='hist', device='cuda', scale_pos_weight=ratio, n_estimators=100, random_state=42)\n",
        "\n",
        "# Train the model again with the class imbalance adjustment\n",
        "xgb_clf.fit(X_train, y_train)\n",
        "\n",
        "# Evaluate the model again\n",
        "y_pred = xgb_clf.predict(X_test)\n",
        "\n",
        "# Print the results\n",
        "print(\"Accuracy after handling class imbalance:\", accuracy_score(y_test, y_pred))\n",
        "print(\"\\nClassification Report after handling class imbalance:\\n\", classification_report(y_test, y_pred))\n"
      ],
      "metadata": {
        "colab": {
          "base_uri": "https://localhost:8080/"
        },
        "id": "HzRIDDjJ_r35",
        "outputId": "9c010da0-4185-486f-b2e4-f3857f9d7e60"
      },
      "execution_count": null,
      "outputs": [
        {
          "output_type": "stream",
          "name": "stdout",
          "text": [
            "Accuracy after handling class imbalance: 0.999949080478304\n",
            "\n",
            "Classification Report after handling class imbalance:\n",
            "               precision    recall  f1-score   support\n",
            "\n",
            "           0       0.99      1.00      1.00     10750\n",
            "           1       1.00      1.00      1.00   1285413\n",
            "\n",
            "    accuracy                           1.00   1296163\n",
            "   macro avg       1.00      1.00      1.00   1296163\n",
            "weighted avg       1.00      1.00      1.00   1296163\n",
            "\n"
          ]
        }
      ]
    },
    {
      "cell_type": "markdown",
      "source": [
        "Step 9: Generate Predictions"
      ],
      "metadata": {
        "id": "1NdN3IpUKISQ"
      }
    },
    {
      "cell_type": "code",
      "source": [
        "# Step 9: Generate Predictions after Model Training\n",
        "\n",
        "# Make predictions on the test set after training the model with class imbalance handling\n",
        "y_pred = xgb_clf.predict(X_test)\n",
        "\n",
        "# Now you have the predictions (y_pred) ready for evaluation in the next steps\n"
      ],
      "metadata": {
        "id": "FqLYNnyNKNcT"
      },
      "execution_count": null,
      "outputs": []
    },
    {
      "cell_type": "markdown",
      "source": [
        "Step 10: Cross-Validation for Robust Evaluation"
      ],
      "metadata": {
        "id": "SGqZZKQw_x6W"
      }
    },
    {
      "cell_type": "code",
      "source": [
        "from sklearn.model_selection import cross_val_score\n",
        "\n",
        "# Step 9: Perform 5-fold cross-validation on the training data\n",
        "scores = cross_val_score(xgb_clf, X_train, y_train, cv=5, scoring='accuracy')\n",
        "\n",
        "# Print cross-validation scores and the mean accuracy\n",
        "print(\"Cross-validation scores:\", scores)\n",
        "print(\"Mean accuracy from cross-validation:\", scores.mean())\n"
      ],
      "metadata": {
        "colab": {
          "base_uri": "https://localhost:8080/"
        },
        "id": "8m5JDy6e_zBb",
        "outputId": "733edac4-5d43-4d31-d407-21fad76f2aee"
      },
      "execution_count": null,
      "outputs": [
        {
          "output_type": "stream",
          "name": "stdout",
          "text": [
            "Cross-validation scores: [0.99995536 0.99994544 0.99994379 0.9999471  0.99995371]\n",
            "Mean accuracy from cross-validation: 0.9999490804398938\n"
          ]
        }
      ]
    },
    {
      "cell_type": "markdown",
      "source": [
        "Step 11: Generate Confusion Matrix and Evaluation"
      ],
      "metadata": {
        "id": "vMgj1PflHbez"
      }
    },
    {
      "cell_type": "code",
      "source": [
        "from sklearn.metrics import confusion_matrix\n",
        "import seaborn as sns\n",
        "import matplotlib.pyplot as plt\n",
        "\n",
        "# Confusion Matrix for CSV-01-12\n",
        "# We are assuming y_test_01_12 and y_pred_01_12 have been generated from earlier model evaluations\n",
        "#cm_01_12 = confusion_matrix(y_test, y_pred)  # Replace with actual variable names if needed\n",
        "#plt.figure(figsize=(6,6))\n",
        "#sns.heatmap(cm_01_12, annot=True, fmt='g', cmap='Blues')\n",
        "#plt.title('Confusion Matrix for CSV-01-12')\n",
        "#plt.xlabel('Predicted')\n",
        "#plt.ylabel('Actual')\n",
        "#plt.show()\n",
        "\n",
        "# Confusion Matrix for CSV-03-11\n",
        "# Again, assuming y_test_03_11 and y_pred_03_11 have been generated from your earlier model\n",
        "cm_03_11 = confusion_matrix(y_test, y_pred)  # Replace with actual variable names if needed\n",
        "plt.figure(figsize=(6,6))\n",
        "sns.heatmap(cm_03_11, annot=True, fmt='g', cmap='Blues')\n",
        "plt.title('Confusion Matrix for CSV-03-11')\n",
        "plt.xlabel('Predicted')\n",
        "plt.ylabel('Actual')\n",
        "plt.show()\n"
      ],
      "metadata": {
        "colab": {
          "base_uri": "https://localhost:8080/",
          "height": 564
        },
        "id": "-HdU-td_HkeE",
        "outputId": "e72b7057-4ae8-40fa-cb6d-964bb33bbdcb"
      },
      "execution_count": null,
      "outputs": [
        {
          "output_type": "display_data",
          "data": {
            "text/plain": [
              "<Figure size 600x600 with 2 Axes>"
            ],
            "image/png": "[encoded data removed]"
          },
          "metadata": {}
        }
      ]
    },
    {
      "cell_type": "markdown",
      "source": [
        "Step 12: Training vs Testing Accuracy"
      ],
      "metadata": {
        "id": "sm5CcSgpFch-"
      }
    },
    {
      "cell_type": "code",
      "source": [
        "import matplotlib.pyplot as plt\n",
        "\n",
        "# Assuming you have accuracy metrics already from training and testing for 01-12\n",
        "# Replace train_accuracies and test_accuracies with your model's actual data\n",
        "train_accuracies = [0.95, 0.96, 0.97, 0.98, 0.99, 0.995]  # Example data\n",
        "test_accuracies = [0.93, 0.94, 0.95, 0.96, 0.97, 0.985]  # Example data\n",
        "\n",
        "# Plot Training vs Testing Accuracy\n",
        "plt.plot(train_accuracies, label='Train')\n",
        "plt.plot(test_accuracies, label='Test')\n",
        "plt.xlabel('Iterations/Epochs')\n",
        "plt.ylabel('Accuracy')\n",
        "plt.title('Training vs Testing Accuracy for CSV-03-11')\n",
        "plt.legend()\n",
        "plt.show()\n"
      ],
      "metadata": {
        "colab": {
          "base_uri": "https://localhost:8080/",
          "height": 472
        },
        "id": "FKfSxKG9FfZw",
        "outputId": "b745ddb3-1831-46c3-a3d0-7320d1659ac9"
      },
      "execution_count": null,
      "outputs": [
        {
          "output_type": "display_data",
          "data": {
            "text/plain": [
              "<Figure size 640x480 with 1 Axes>"
            ],
            "image/png": "[encoded data removed]"
          },
          "metadata": {}
        }
      ]
    }
  ]
}